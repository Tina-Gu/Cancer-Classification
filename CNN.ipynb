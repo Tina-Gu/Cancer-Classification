{
 "cells": [
  {
   "cell_type": "code",
   "execution_count": 1,
   "id": "166cd31a",
   "metadata": {
    "executionInfo": {
     "elapsed": 406,
     "status": "ok",
     "timestamp": 1627209168608,
     "user": {
      "displayName": "Callter",
      "photoUrl": "https://lh3.googleusercontent.com/a-/AOh14Gi32x7lPxqatKcJ0cWY7i9EouSCq3hK5d_0Rwzj=s64",
      "userId": "14478485279271326409"
     },
     "user_tz": -480
    },
    "id": "166cd31a"
   },
   "outputs": [],
   "source": [
    "# import dependencies\n",
    "import json\n",
    "import math\n",
    "import os\n",
    "from collections import Counter\n",
    "import itertools\n",
    "from PIL import Image\n",
    "from tqdm import tqdm\n",
    "import gc\n",
    "from functools import partial\n",
    "\n",
    "import cv2\n",
    "import numpy as np\n",
    "import matplotlib.pyplot as plt\n",
    "import pandas as pd\n",
    "import scipy\n",
    "from sklearn import metrics\n",
    "from sklearn.model_selection import train_test_split\n",
    "from sklearn.metrics import cohen_kappa_score, accuracy_score\n",
    "import tensorflow as tf\n",
    "from keras import layers\n",
    "from keras import backend as K\n",
    "from keras.applications.resnet50 import ResNet50\n",
    "from keras.applications.mobilenet import MobileNet\n",
    "from keras.applications.densenet import DenseNet201\n",
    "from keras.applications.inception_v3 import InceptionV3\n",
    "from keras.applications.nasnet import NASNetLarge, NASNetMobile\n",
    "from keras.applications.inception_resnet_v2 import InceptionResNetV2\n",
    "from keras.callbacks import Callback, ModelCheckpoint, ReduceLROnPlateau, TensorBoard\n",
    "from keras.preprocessing.image import ImageDataGenerator\n",
    "from keras.utils.np_utils import to_categorical\n",
    "from keras.models import Sequential\n",
    "from keras.optimizers import Adam\n",
    "\n",
    "%matplotlib inline"
   ]
  },
  {
   "cell_type": "code",
   "execution_count": 2,
   "id": "53d2765a",
   "metadata": {
    "executionInfo": {
     "elapsed": 581,
     "status": "ok",
     "timestamp": 1627218347197,
     "user": {
      "displayName": "Callter",
      "photoUrl": "https://lh3.googleusercontent.com/a-/AOh14Gi32x7lPxqatKcJ0cWY7i9EouSCq3hK5d_0Rwzj=s64",
      "userId": "14478485279271326409"
     },
     "user_tz": -480
    },
    "id": "53d2765a"
   },
   "outputs": [],
   "source": [
    "# Self-defined functions\n",
    "#Transfer 'jpg' images to an array IMG\n",
    "def Dataset_loader(DIR, RESIZE, sigmaX=10):\n",
    "    #IMG = []\n",
    "    BIMG = []\n",
    "    MIMG = []\n",
    "    read = lambda imname: np.asarray(Image.open(imname).convert(\"RGB\"))\n",
    "    for IMAGE_NAME in tqdm(os.listdir(DIR)):\n",
    "        PATH = os.path.join(DIR,IMAGE_NAME)\n",
    "        \n",
    "        name, ftype = os.path.splitext(PATH)\n",
    "#         print(name)\n",
    "        if ftype == \".png\":\n",
    "            img = read(PATH)\n",
    "            img = cv2.resize(img, (RESIZE,RESIZE))\n",
    "            if name[11:16] == 'train':\n",
    "                if name[26] =='B':\n",
    "                    BIMG.append(np.array(img))\n",
    "                elif name[26]== 'M':\n",
    "                    MIMG.append(np.array(img))\n",
    "            #IMG.append(np.array(img))\n",
    "            else:\n",
    "                if name[25] == 'B':\n",
    "                    BIMG.append(np.array(img))\n",
    "                elif name[25] == 'M':\n",
    "                    MIMG.append(np.array(img))\n",
    "    return BIMG, MIMG"
   ]
  },
  {
   "cell_type": "code",
   "execution_count": 20,
   "id": "d6929ac3",
   "metadata": {},
   "outputs": [],
   "source": [
    "BATCH_SIZE = 16\n",
    "EPOCH = 20"
   ]
  },
  {
   "cell_type": "markdown",
   "id": "46d8250e",
   "metadata": {
    "id": "46d8250e"
   },
   "source": [
    "### Load dataset"
   ]
  },
  {
   "cell_type": "code",
   "execution_count": 3,
   "id": "736d7dad",
   "metadata": {
    "colab": {
     "base_uri": "https://localhost:8080/"
    },
    "executionInfo": {
     "elapsed": 3781191,
     "status": "ok",
     "timestamp": 1627212967096,
     "user": {
      "displayName": "Callter",
      "photoUrl": "https://lh3.googleusercontent.com/a-/AOh14Gi32x7lPxqatKcJ0cWY7i9EouSCq3hK5d_0Rwzj=s64",
      "userId": "14478485279271326409"
     },
     "user_tz": -480
    },
    "id": "736d7dad",
    "outputId": "edaef502-c66a-46f7-dfe6-377040d03717"
   },
   "outputs": [
    {
     "name": "stderr",
     "output_type": "stream",
     "text": [
      "100%|██████████| 1269/1269 [00:18<00:00, 68.61it/s]\n",
      "100%|██████████| 1416/1416 [00:20<00:00, 70.16it/s]\n",
      "100%|██████████| 1354/1354 [00:20<00:00, 67.54it/s]\n",
      "100%|██████████| 1334/1334 [00:18<00:00, 71.27it/s]\n",
      "100%|██████████| 1243/1243 [00:18<00:00, 67.08it/s]\n"
     ]
    }
   ],
   "source": [
    "f1_b_train, f1_m_train = Dataset_loader('data/fold1/train/200X', 224)\n",
    "f1_b_train = np.array(f1_b_train)\n",
    "f1_m_train = np.array(f1_m_train)\n",
    "\n",
    "f2_b_train, f2_m_train = Dataset_loader('data/fold2/train/200X', 224)\n",
    "f2_b_train = np.array(f2_b_train)\n",
    "f2_m_train = np.array(f2_m_train)\n",
    "\n",
    "f3_b_train, f3_m_train = Dataset_loader('data/fold3/train/200X', 224)\n",
    "f3_b_train = np.array(f3_b_train)\n",
    "f3_m_train = np.array(f3_m_train)\n",
    "\n",
    "f4_b_train, f4_m_train = Dataset_loader('data/fold4/train/200X', 224)\n",
    "f4_b_train = np.array(f4_b_train)\n",
    "f4_m_train = np.array(f4_m_train)\n",
    "\n",
    "f5_b_train, f5_m_train = Dataset_loader('data/fold5/train/200X', 224)\n",
    "f5_b_train = np.array(f5_b_train)\n",
    "f5_m_train = np.array(f5_m_train)"
   ]
  },
  {
   "cell_type": "code",
   "execution_count": 4,
   "id": "6a00ccc6",
   "metadata": {
    "colab": {
     "base_uri": "https://localhost:8080/"
    },
    "executionInfo": {
     "elapsed": 1863547,
     "status": "ok",
     "timestamp": 1627218144329,
     "user": {
      "displayName": "Callter",
      "photoUrl": "https://lh3.googleusercontent.com/a-/AOh14Gi32x7lPxqatKcJ0cWY7i9EouSCq3hK5d_0Rwzj=s64",
      "userId": "14478485279271326409"
     },
     "user_tz": -480
    },
    "id": "6a00ccc6",
    "outputId": "ee6d936d-65f8-4883-8375-92f28f54ee0a"
   },
   "outputs": [
    {
     "name": "stderr",
     "output_type": "stream",
     "text": [
      "100%|██████████| 744/744 [00:10<00:00, 70.77it/s]\n",
      "100%|██████████| 597/597 [00:08<00:00, 70.86it/s]\n",
      "100%|██████████| 659/659 [00:09<00:00, 70.39it/s]\n",
      "100%|██████████| 679/679 [00:09<00:00, 69.24it/s]\n",
      "100%|██████████| 770/770 [00:10<00:00, 70.12it/s]\n"
     ]
    }
   ],
   "source": [
    "f1_b_test, f1_m_test = Dataset_loader('data/fold1/test/200X', 224)\n",
    "f1_b_test = np.array(f1_b_test)\n",
    "f1_m_test = np.array(f1_m_test)\n",
    "\n",
    "f2_b_test, f2_m_test = Dataset_loader('data/fold2/test/200X', 224)\n",
    "f2_b_test = np.array(f2_b_test)\n",
    "f2_m_test = np.array(f2_m_test)\n",
    "\n",
    "f3_b_test, f3_m_test = Dataset_loader('data/fold3/test/200X', 224)\n",
    "f3_b_test = np.array(f3_b_test)\n",
    "f3_m_test = np.array(f3_m_test)\n",
    "\n",
    "f4_b_test, f4_m_test = Dataset_loader('data/fold4/test/200X', 224)\n",
    "f4_b_test = np.array(f4_b_test)\n",
    "f4_m_test = np.array(f4_m_test)\n",
    "\n",
    "f5_b_test, f5_m_test = Dataset_loader('data/fold5/test/200X', 224)\n",
    "f5_b_test = np.array(f5_b_test)\n",
    "f5_m_test = np.array(f5_m_test)"
   ]
  },
  {
   "cell_type": "code",
   "execution_count": 5,
   "id": "b4fa9702",
   "metadata": {
    "colab": {
     "base_uri": "https://localhost:8080/"
    },
    "executionInfo": {
     "elapsed": 2643,
     "status": "ok",
     "timestamp": 1627218166762,
     "user": {
      "displayName": "Callter",
      "photoUrl": "https://lh3.googleusercontent.com/a-/AOh14Gi32x7lPxqatKcJ0cWY7i9EouSCq3hK5d_0Rwzj=s64",
      "userId": "14478485279271326409"
     },
     "user_tz": -480
    },
    "id": "b4fa9702",
    "outputId": "82d929e8-d29c-4d98-c1b2-7d70f3104c02"
   },
   "outputs": [],
   "source": [
    "b_train = np.concatenate((f1_b_train, f2_b_train, f3_b_train, f4_b_train, f5_b_train), axis=0)\n",
    "m_train = np.concatenate((f1_m_train, f2_m_train, f3_m_train, f4_m_train, f5_m_train), axis=0)\n",
    "b_test = np.concatenate((f1_b_test, f2_b_test, f3_b_test, f4_b_test, f5_b_test), axis = 0)\n",
    "m_test = np.concatenate((f1_m_test, f2_m_test, f3_m_test, f4_m_test, f5_m_test), axis = 0)"
   ]
  },
  {
   "cell_type": "code",
   "execution_count": 7,
   "id": "f2261142",
   "metadata": {},
   "outputs": [
    {
     "name": "stdout",
     "output_type": "stream",
     "text": [
      "benign traning size: (2001, 224, 224, 3)\n",
      "malian traning size: (4615, 224, 224, 3)\n",
      "benign testing size: (1114, 224, 224, 3)\n",
      "malian testing size: (2335, 224, 224, 3)\n"
     ]
    }
   ],
   "source": [
    "print('benign traning size:', b_train.shape)\n",
    "print('malian traning size:', m_train.shape)\n",
    "print('benign testing size:', b_test.shape)\n",
    "print('malian testing size:', m_test.shape)"
   ]
  },
  {
   "cell_type": "markdown",
   "id": "3a9ab02a",
   "metadata": {
    "id": "3a9ab02a"
   },
   "source": [
    "### Create Label"
   ]
  },
  {
   "cell_type": "code",
   "execution_count": 8,
   "id": "ad604814",
   "metadata": {
    "executionInfo": {
     "elapsed": 409,
     "status": "ok",
     "timestamp": 1627218172899,
     "user": {
      "displayName": "Callter",
      "photoUrl": "https://lh3.googleusercontent.com/a-/AOh14Gi32x7lPxqatKcJ0cWY7i9EouSCq3hK5d_0Rwzj=s64",
      "userId": "14478485279271326409"
     },
     "user_tz": -480
    },
    "id": "ad604814"
   },
   "outputs": [],
   "source": [
    "b_train_label = np.zeros(len(b_train))\n",
    "m_train_label = np.ones(len(m_train))\n",
    "b_test_label = np.zeros(len(b_test))\n",
    "m_test_label = np.ones(len(m_test))"
   ]
  },
  {
   "cell_type": "code",
   "execution_count": 9,
   "id": "4233a78a",
   "metadata": {
    "colab": {
     "base_uri": "https://localhost:8080/"
    },
    "executionInfo": {
     "elapsed": 1943,
     "status": "ok",
     "timestamp": 1627218179384,
     "user": {
      "displayName": "Callter",
      "photoUrl": "https://lh3.googleusercontent.com/a-/AOh14Gi32x7lPxqatKcJ0cWY7i9EouSCq3hK5d_0Rwzj=s64",
      "userId": "14478485279271326409"
     },
     "user_tz": -480
    },
    "id": "4233a78a",
    "outputId": "2264b683-ba2f-4917-e8b0-02c85b9bcf48"
   },
   "outputs": [],
   "source": [
    "# Merge data \n",
    "X_train = np.concatenate((b_train, m_train), axis = 0)\n",
    "Y_train = np.concatenate((b_train_label, m_train_label), axis = 0)\n",
    "X_test = np.concatenate((b_test, m_test), axis = 0)\n",
    "Y_test = np.concatenate((b_test_label, m_test_label), axis = 0)"
   ]
  },
  {
   "cell_type": "code",
   "execution_count": 10,
   "id": "3f17bf8a",
   "metadata": {},
   "outputs": [
    {
     "name": "stdout",
     "output_type": "stream",
     "text": [
      "(6616, 224, 224, 3)\n",
      "(6616,)\n",
      "(3449, 224, 224, 3)\n",
      "(3449,)\n"
     ]
    }
   ],
   "source": [
    "print(X_train.shape)\n",
    "print(Y_train.shape)\n",
    "print(X_test.shape)\n",
    "print(Y_test.shape)"
   ]
  },
  {
   "cell_type": "code",
   "execution_count": 11,
   "id": "ec674076",
   "metadata": {
    "executionInfo": {
     "elapsed": 2195,
     "status": "ok",
     "timestamp": 1627218189508,
     "user": {
      "displayName": "Callter",
      "photoUrl": "https://lh3.googleusercontent.com/a-/AOh14Gi32x7lPxqatKcJ0cWY7i9EouSCq3hK5d_0Rwzj=s64",
      "userId": "14478485279271326409"
     },
     "user_tz": -480
    },
    "id": "ec674076"
   },
   "outputs": [],
   "source": [
    "# radomly shuffle the data\n",
    "s = np.arange(X_train.shape[0])\n",
    "np.random.shuffle(s)\n",
    "X_train = X_train[s]\n",
    "Y_train = Y_train[s]\n",
    "\n",
    "s = np.arange(X_test.shape[0])\n",
    "np.random.shuffle(s)\n",
    "X_test = X_test[s]\n",
    "Y_test = Y_test[s]\n",
    "\n",
    "# To categorical\n",
    "Y_train = to_categorical(Y_train, num_classes= 2)\n",
    "Y_test = to_categorical(Y_test, num_classes= 2)"
   ]
  },
  {
   "cell_type": "markdown",
   "id": "a65fb6f6",
   "metadata": {
    "id": "a65fb6f6"
   },
   "source": [
    "### Train and validation split"
   ]
  },
  {
   "cell_type": "code",
   "execution_count": 12,
   "id": "5d8a6d70",
   "metadata": {
    "executionInfo": {
     "elapsed": 971,
     "status": "ok",
     "timestamp": 1627218196262,
     "user": {
      "displayName": "Callter",
      "photoUrl": "https://lh3.googleusercontent.com/a-/AOh14Gi32x7lPxqatKcJ0cWY7i9EouSCq3hK5d_0Rwzj=s64",
      "userId": "14478485279271326409"
     },
     "user_tz": -480
    },
    "id": "5d8a6d70"
   },
   "outputs": [],
   "source": [
    "x_train, x_val, y_train, y_val = train_test_split(\n",
    "    X_train, Y_train, \n",
    "    test_size=0.2, \n",
    "    random_state=11\n",
    ")"
   ]
  },
  {
   "cell_type": "markdown",
   "id": "67abd055",
   "metadata": {
    "id": "67abd055"
   },
   "source": [
    "### Data Generator"
   ]
  },
  {
   "cell_type": "code",
   "execution_count": 13,
   "id": "3ff14a72",
   "metadata": {
    "executionInfo": {
     "elapsed": 428,
     "status": "ok",
     "timestamp": 1627218235242,
     "user": {
      "displayName": "Callter",
      "photoUrl": "https://lh3.googleusercontent.com/a-/AOh14Gi32x7lPxqatKcJ0cWY7i9EouSCq3hK5d_0Rwzj=s64",
      "userId": "14478485279271326409"
     },
     "user_tz": -480
    },
    "id": "3ff14a72"
   },
   "outputs": [],
   "source": [
    "# Using original generator\n",
    "train_generator = ImageDataGenerator(\n",
    "        zoom_range=2,  # set range for random zoom\n",
    "        rotation_range = 90,\n",
    "        horizontal_flip=True,  # randomly flip images\n",
    "        vertical_flip=True,  # randomly flip images\n",
    ")"
   ]
  },
  {
   "cell_type": "markdown",
   "id": "1c591741",
   "metadata": {
    "id": "1c591741"
   },
   "source": [
    "### Model: ResNet50"
   ]
  },
  {
   "cell_type": "code",
   "execution_count": 17,
   "id": "d5e075e8",
   "metadata": {},
   "outputs": [],
   "source": [
    "def build_model(backbone, lr=1e-4):\n",
    "    model = Sequential()\n",
    "    model.add(backbone)\n",
    "    model.add(layers.GlobalAveragePooling2D())\n",
    "    model.add(layers.Dropout(0.3))\n",
    "    model.add(layers.BatchNormalization())\n",
    "    model.add(layers.Dense(2, activation='softmax'))\n",
    "    \n",
    "    \n",
    "    model.compile(\n",
    "        loss='binary_crossentropy',\n",
    "        optimizer=Adam(learning_rate=lr),\n",
    "        metrics=['accuracy']\n",
    "    )\n",
    "    \n",
    "    return model"
   ]
  },
  {
   "cell_type": "code",
   "execution_count": 15,
   "id": "8bdce1ce",
   "metadata": {},
   "outputs": [
    {
     "data": {
      "text/plain": [
       "58"
      ]
     },
     "execution_count": 15,
     "metadata": {},
     "output_type": "execute_result"
    }
   ],
   "source": [
    "K.clear_session()\n",
    "gc.collect()"
   ]
  },
  {
   "cell_type": "code",
   "execution_count": 16,
   "id": "577e9fdc",
   "metadata": {},
   "outputs": [],
   "source": [
    "# create ResNet model\n",
    "resnet = DenseNet201(\n",
    "    weights='imagenet',\n",
    "    include_top=False,\n",
    "    input_shape=(224,224,3)\n",
    ")"
   ]
  },
  {
   "cell_type": "code",
   "execution_count": 18,
   "id": "bb9ad8f5",
   "metadata": {
    "colab": {
     "base_uri": "https://localhost:8080/"
    },
    "executionInfo": {
     "elapsed": 7944,
     "status": "ok",
     "timestamp": 1627218360579,
     "user": {
      "displayName": "Callter",
      "photoUrl": "https://lh3.googleusercontent.com/a-/AOh14Gi32x7lPxqatKcJ0cWY7i9EouSCq3hK5d_0Rwzj=s64",
      "userId": "14478485279271326409"
     },
     "user_tz": -480
    },
    "id": "bb9ad8f5",
    "outputId": "232d918a-c80c-4bec-fed6-bdc749a13a4e"
   },
   "outputs": [
    {
     "name": "stdout",
     "output_type": "stream",
     "text": [
      "Model: \"sequential\"\n",
      "_________________________________________________________________\n",
      "Layer (type)                 Output Shape              Param #   \n",
      "=================================================================\n",
      "densenet201 (Functional)     (None, 7, 7, 1920)        18321984  \n",
      "_________________________________________________________________\n",
      "global_average_pooling2d (Gl (None, 1920)              0         \n",
      "_________________________________________________________________\n",
      "dropout (Dropout)            (None, 1920)              0         \n",
      "_________________________________________________________________\n",
      "batch_normalization (BatchNo (None, 1920)              7680      \n",
      "_________________________________________________________________\n",
      "dense (Dense)                (None, 2)                 3842      \n",
      "=================================================================\n",
      "Total params: 18,333,506\n",
      "Trainable params: 18,100,610\n",
      "Non-trainable params: 232,896\n",
      "_________________________________________________________________\n"
     ]
    }
   ],
   "source": [
    "model = build_model(resnet ,lr = 1e-4)\n",
    "model.summary()"
   ]
  },
  {
   "cell_type": "code",
   "execution_count": 23,
   "id": "f84fa994",
   "metadata": {
    "executionInfo": {
     "elapsed": 715,
     "status": "ok",
     "timestamp": 1627218386953,
     "user": {
      "displayName": "Callter",
      "photoUrl": "https://lh3.googleusercontent.com/a-/AOh14Gi32x7lPxqatKcJ0cWY7i9EouSCq3hK5d_0Rwzj=s64",
      "userId": "14478485279271326409"
     },
     "user_tz": -480
    },
    "id": "f84fa994"
   },
   "outputs": [],
   "source": [
    "# Learning Rate Reducer\n",
    "learn_control = ReduceLROnPlateau(monitor='val_accuracy', patience=5,\n",
    "                                  verbose=1,factor=0.2, min_lr=1e-7)\n",
    "\n",
    "# Checkpoint\n",
    "filepath=\"weights.best.hdf5\"\n",
    "checkpoint = ModelCheckpoint(filepath, monitor='val_accuracy', verbose=1, save_best_only=True, mode='max')"
   ]
  },
  {
   "cell_type": "markdown",
   "id": "963e882a",
   "metadata": {},
   "source": [
    "### Start training and store result into history"
   ]
  },
  {
   "cell_type": "code",
   "execution_count": 24,
   "id": "c0ae5674",
   "metadata": {
    "colab": {
     "base_uri": "https://localhost:8080/",
     "height": 232
    },
    "executionInfo": {
     "elapsed": 424,
     "status": "error",
     "timestamp": 1627218577113,
     "user": {
      "displayName": "Callter",
      "photoUrl": "https://lh3.googleusercontent.com/a-/AOh14Gi32x7lPxqatKcJ0cWY7i9EouSCq3hK5d_0Rwzj=s64",
      "userId": "14478485279271326409"
     },
     "user_tz": -480
    },
    "id": "c0ae5674",
    "outputId": "ccb3117b-50b2-4ec1-c9a0-dcae7bdc682e"
   },
   "outputs": [
    {
     "name": "stdout",
     "output_type": "stream",
     "text": [
      "Epoch 1/20\n",
      "330/330 [==============================] - 2304s 7s/step - loss: 0.2551 - accuracy: 0.9000 - val_loss: 0.2767 - val_accuracy: 0.8739\n",
      "\n",
      "Epoch 00001: val_accuracy improved from -inf to 0.87387, saving model to weights.best.hdf5\n",
      "Epoch 2/20\n",
      "330/330 [==============================] - 2405s 7s/step - loss: 0.1943 - accuracy: 0.9295 - val_loss: 0.1218 - val_accuracy: 0.9615\n",
      "\n",
      "Epoch 00002: val_accuracy improved from 0.87387 to 0.96148, saving model to weights.best.hdf5\n",
      "Epoch 3/20\n",
      "330/330 [==============================] - 2510s 8s/step - loss: 0.1741 - accuracy: 0.9320 - val_loss: 0.1469 - val_accuracy: 0.9403\n",
      "\n",
      "Epoch 00003: val_accuracy did not improve from 0.96148\n",
      "Epoch 4/20\n",
      "330/330 [==============================] - 2260s 7s/step - loss: 0.1595 - accuracy: 0.9405 - val_loss: 0.0617 - val_accuracy: 0.9751\n",
      "\n",
      "Epoch 00004: val_accuracy improved from 0.96148 to 0.97508, saving model to weights.best.hdf5\n",
      "Epoch 5/20\n",
      "330/330 [==============================] - 2196s 7s/step - loss: 0.1426 - accuracy: 0.9495 - val_loss: 0.0650 - val_accuracy: 0.9819\n",
      "\n",
      "Epoch 00005: val_accuracy improved from 0.97508 to 0.98187, saving model to weights.best.hdf5\n",
      "Epoch 6/20\n",
      "330/330 [==============================] - 2254s 7s/step - loss: 0.1213 - accuracy: 0.9520 - val_loss: 0.2139 - val_accuracy: 0.9237\n",
      "\n",
      "Epoch 00006: val_accuracy did not improve from 0.98187\n",
      "Epoch 7/20\n",
      "330/330 [==============================] - 2243s 7s/step - loss: 0.1161 - accuracy: 0.9573 - val_loss: 0.0275 - val_accuracy: 0.9909\n",
      "\n",
      "Epoch 00007: val_accuracy improved from 0.98187 to 0.99094, saving model to weights.best.hdf5\n",
      "Epoch 8/20\n",
      "330/330 [==============================] - 2239s 7s/step - loss: 0.1235 - accuracy: 0.9545 - val_loss: 0.0876 - val_accuracy: 0.9751\n",
      "\n",
      "Epoch 00008: val_accuracy did not improve from 0.99094\n",
      "Epoch 9/20\n",
      "330/330 [==============================] - 2256s 7s/step - loss: 0.1078 - accuracy: 0.9624 - val_loss: 0.0137 - val_accuracy: 0.9970\n",
      "\n",
      "Epoch 00009: val_accuracy improved from 0.99094 to 0.99698, saving model to weights.best.hdf5\n",
      "Epoch 10/20\n",
      "330/330 [==============================] - 2227s 7s/step - loss: 0.1041 - accuracy: 0.9616 - val_loss: 0.0410 - val_accuracy: 0.9856\n",
      "\n",
      "Epoch 00010: val_accuracy did not improve from 0.99698\n",
      "Epoch 11/20\n",
      "330/330 [==============================] - 2232s 7s/step - loss: 0.0962 - accuracy: 0.9650 - val_loss: 0.0310 - val_accuracy: 0.9894\n",
      "\n",
      "Epoch 00011: val_accuracy did not improve from 0.99698\n",
      "Epoch 12/20\n",
      "330/330 [==============================] - 2234s 7s/step - loss: 0.0943 - accuracy: 0.9650 - val_loss: 0.0783 - val_accuracy: 0.9705\n",
      "\n",
      "Epoch 00012: val_accuracy did not improve from 0.99698\n",
      "Epoch 13/20\n",
      "330/330 [==============================] - 2226s 7s/step - loss: 0.0945 - accuracy: 0.9647 - val_loss: 0.0316 - val_accuracy: 0.9917\n",
      "\n",
      "Epoch 00013: val_accuracy did not improve from 0.99698\n",
      "Epoch 14/20\n",
      "330/330 [==============================] - 2261s 7s/step - loss: 0.0900 - accuracy: 0.9664 - val_loss: 0.0106 - val_accuracy: 0.9970\n",
      "\n",
      "Epoch 00014: ReduceLROnPlateau reducing learning rate to 1.9999999494757503e-05.\n",
      "\n",
      "Epoch 00014: val_accuracy did not improve from 0.99698\n",
      "Epoch 15/20\n",
      "330/330 [==============================] - 2223s 7s/step - loss: 0.0611 - accuracy: 0.9786 - val_loss: 0.0049 - val_accuracy: 0.9985\n",
      "\n",
      "Epoch 00015: val_accuracy improved from 0.99698 to 0.99849, saving model to weights.best.hdf5\n",
      "Epoch 16/20\n",
      "330/330 [==============================] - 2243s 7s/step - loss: 0.0528 - accuracy: 0.9824 - val_loss: 0.0060 - val_accuracy: 0.9985\n",
      "\n",
      "Epoch 00016: val_accuracy did not improve from 0.99849\n",
      "Epoch 17/20\n",
      "330/330 [==============================] - 2229s 7s/step - loss: 0.0471 - accuracy: 0.9824 - val_loss: 0.0081 - val_accuracy: 0.9985\n",
      "\n",
      "Epoch 00017: val_accuracy did not improve from 0.99849\n",
      "Epoch 18/20\n",
      "330/330 [==============================] - 2150s 7s/step - loss: 0.0362 - accuracy: 0.9868 - val_loss: 0.0130 - val_accuracy: 0.9970\n",
      "\n",
      "Epoch 00018: val_accuracy did not improve from 0.99849\n",
      "Epoch 19/20\n",
      "330/330 [==============================] - 2117s 6s/step - loss: 0.0409 - accuracy: 0.9860 - val_loss: 0.0184 - val_accuracy: 0.9970\n",
      "\n",
      "Epoch 00019: val_accuracy did not improve from 0.99849\n",
      "Epoch 20/20\n",
      "330/330 [==============================] - 2114s 6s/step - loss: 0.0398 - accuracy: 0.9858 - val_loss: 0.0064 - val_accuracy: 0.9985\n",
      "\n",
      "Epoch 00020: ReduceLROnPlateau reducing learning rate to 3.999999898951501e-06.\n",
      "\n",
      "Epoch 00020: val_accuracy did not improve from 0.99849\n"
     ]
    }
   ],
   "source": [
    "history = model.fit_generator(\n",
    "    train_generator.flow(x_train, y_train, batch_size=BATCH_SIZE),\n",
    "    steps_per_epoch=x_train.shape[0] / BATCH_SIZE,\n",
    "    epochs=EPOCH,\n",
    "    validation_data=(x_val, y_val),\n",
    "    callbacks=[learn_control, checkpoint]\n",
    ")"
   ]
  },
  {
   "cell_type": "markdown",
   "id": "f1d28bd9",
   "metadata": {},
   "source": [
    "### Data Analysis"
   ]
  },
  {
   "cell_type": "code",
   "execution_count": 25,
   "id": "c5ddc18e",
   "metadata": {
    "id": "c5ddc18e"
   },
   "outputs": [],
   "source": [
    "with open('history.json', 'w') as f:\n",
    "    json.dump(str(history.history), f)"
   ]
  },
  {
   "cell_type": "code",
   "execution_count": 30,
   "id": "2bbbb627",
   "metadata": {
    "id": "2bbbb627",
    "outputId": "ef80f0ef-71b7-443a-8900-a08edee105e9"
   },
   "outputs": [
    {
     "data": {
      "text/plain": [
       "<AxesSubplot:>"
      ]
     },
     "execution_count": 30,
     "metadata": {},
     "output_type": "execute_result"
    },
    {
     "data": {
      "image/png": "[encoded data removed]",
      "text/plain": [
       "<Figure size 432x288 with 1 Axes>"
      ]
     },
     "metadata": {
      "needs_background": "light"
     },
     "output_type": "display_data"
    }
   ],
   "source": [
    "history_df = pd.DataFrame(history.history)\n",
    "history_df[['accuracy', 'val_accuracy']].plot()"
   ]
  },
  {
   "cell_type": "code",
   "execution_count": 31,
   "id": "af6a2881",
   "metadata": {
    "id": "af6a2881",
    "outputId": "ec3ca57d-2d1c-455f-dbc7-bd4c2054489c"
   },
   "outputs": [
    {
     "data": {
      "text/plain": [
       "<AxesSubplot:>"
      ]
     },
     "execution_count": 31,
     "metadata": {},
     "output_type": "execute_result"
    },
    {
     "data": {
      "image/png": "[encoded data removed]",
      "text/plain": [
       "<Figure size 432x288 with 1 Axes>"
      ]
     },
     "metadata": {
      "needs_background": "light"
     },
     "output_type": "display_data"
    }
   ],
   "source": [
    "history_df = pd.DataFrame(history.history)\n",
    "history_df[['loss', 'val_loss']].plot()"
   ]
  },
  {
   "cell_type": "markdown",
   "id": "ca382af3",
   "metadata": {},
   "source": [
    "#### Load weights and print validation result"
   ]
  },
  {
   "cell_type": "code",
   "execution_count": 32,
   "id": "d0703765",
   "metadata": {},
   "outputs": [],
   "source": [
    "model.load_weights(\"weights.best.hdf5\")"
   ]
  },
  {
   "cell_type": "code",
   "execution_count": 33,
   "id": "a98baec7",
   "metadata": {
    "id": "a98baec7",
    "outputId": "b38124fc-0600-44cf-c2f7-0959f23211c5"
   },
   "outputs": [
    {
     "data": {
      "text/plain": [
       "0.9984894259818731"
      ]
     },
     "execution_count": 33,
     "metadata": {},
     "output_type": "execute_result"
    }
   ],
   "source": [
    "Y_val_pred = model.predict(x_val)\n",
    "accuracy_score(np.argmax(y_val, axis=1), np.argmax(Y_val_pred, axis=1))"
   ]
  },
  {
   "cell_type": "code",
   "execution_count": null,
   "id": "b158c98c",
   "metadata": {},
   "outputs": [],
   "source": [
    "Y_pred = model.predict(X_test)\n",
    "accuracy_score(np.argmax(Y_test, axis=1), np.argmax(Y_pred, axis=1))"
   ]
  },
  {
   "cell_type": "code",
   "execution_count": null,
   "id": "4af501f9",
   "metadata": {},
   "outputs": [],
   "source": [
    "tta_steps = 10\n",
    "predictions = []\n",
    "\n",
    "for i in tqdm(range(tta_steps)):\n",
    "    preds = model.predict_generator(train_generator.flow(X_test, batch_size=BATCH_SIZE, shuffle=False),\n",
    "                                    steps = len(X_test)/BATCH_SIZE)\n",
    "    \n",
    "    predictions.append(preds)\n",
    "    gc.collect()\n",
    "    \n",
    "Y_pred_tta = np.mean(predictions, axis=0)"
   ]
  },
  {
   "cell_type": "code",
   "execution_count": null,
   "id": "a66dc619",
   "metadata": {},
   "outputs": [],
   "source": [
    "from sklearn.metrics import confusion_matrix\n",
    "\n",
    "def plot_confusion_matrix(cm, classes,\n",
    "                          normalize=False,\n",
    "                          title='Confusion matrix',\n",
    "                          cmap=plt.cm.Blues):\n",
    "    \"\"\"\n",
    "    This function prints and plots the confusion matrix.\n",
    "    Normalization can be applied by setting `normalize=True`.\n",
    "    \"\"\"\n",
    "    if normalize:\n",
    "        cm = cm.astype('float') / cm.sum(axis=1)[:, np.newaxis]\n",
    "        print(\"Normalized confusion matrix\")\n",
    "    else:\n",
    "        print('Confusion matrix, without normalization')\n",
    "\n",
    "    print(cm)\n",
    "\n",
    "    plt.imshow(cm, interpolation='nearest', cmap=cmap)\n",
    "    plt.title(title)\n",
    "    plt.colorbar()\n",
    "    tick_marks = np.arange(len(classes))\n",
    "    plt.xticks(tick_marks, classes, rotation=55)\n",
    "    plt.yticks(tick_marks, classes)\n",
    "\n",
    "    fmt = '.2f' if normalize else 'd'\n",
    "    thresh = cm.max() / 2.\n",
    "    for i, j in itertools.product(range(cm.shape[0]), range(cm.shape[1])):\n",
    "        plt.text(j, i, format(cm[i, j], fmt),\n",
    "                 horizontalalignment=\"center\",\n",
    "                 color=\"white\" if cm[i, j] > thresh else \"black\")\n",
    "\n",
    "    plt.ylabel('True label')\n",
    "    plt.xlabel('Predicted label')\n",
    "    plt.tight_layout()\n",
    "\n",
    "cm = confusion_matrix(np.argmax(Y_test, axis=1), np.argmax(Y_pred, axis=1))\n",
    "\n",
    "cm_plot_label =['benign', 'malignant']\n",
    "plot_confusion_matrix(cm, cm_plot_label, title ='Confusion Metrix for Skin Cancer')"
   ]
  },
  {
   "cell_type": "code",
   "execution_count": null,
   "id": "e9983d8c",
   "metadata": {},
   "outputs": [],
   "source": [
    "cm = confusion_matrix(np.argmax(Y_test, axis=1), np.argmax(Y_pred_tta, axis=1))\n",
    "\n",
    "cm_plot_label =['benign', 'malignant']\n",
    "plot_confusion_matrix(cm, cm_plot_label, title ='Confusion Metrix for Skin Cancer')"
   ]
  },
  {
   "cell_type": "code",
   "execution_count": null,
   "id": "a810339c",
   "metadata": {},
   "outputs": [],
   "source": [
    "from sklearn.metrics import classification_report\n",
    "classification_report( np.argmax(Y_test, axis=1), np.argmax(Y_pred_tta, axis=1))"
   ]
  },
  {
   "cell_type": "markdown",
   "id": "da1ebfc6",
   "metadata": {
    "id": "da1ebfc6"
   },
   "source": [
    "### More Complicated version"
   ]
  },
  {
   "cell_type": "code",
   "execution_count": null,
   "id": "8a7edf52",
   "metadata": {
    "id": "8a7edf52"
   },
   "outputs": [],
   "source": [
    "from keras.layers import Conv2D, MaxPooling2D, Dense, Flatten, Activation\n",
    "\n",
    "num_classes = 2\n",
    "def cnn(train_X, num_classes):\n",
    "    model = Sequential()\n",
    "    model.add(Conv2D(32, (5, 5), strides = (1,1), padding='same', \n",
    "                 input_shape=train_X.shape[1:]))  # 第一层需要指出图像的大小\n",
    "    model.add(Activation('relu'))\n",
    "    model.add(MaxPooling2D(pool_size=(3, 3), strides=(1,1)))\n",
    "    model.add(Conv2D(64, (5, 5), strides = (1,1)))\n",
    "    model.add(Activation('relu'))\n",
    "    model.add(MaxPooling2D(pool_size=(3, 3), strides=(1,1)))\n",
    "    model.add(Conv2D(128, (5, 5), strides = (1,1)))\n",
    "    model.add(MaxPooling2D(pool_size=(3, 3), strides=(1,1)))\n",
    "    model.add(Flatten())\n",
    "    model.add(Dense(512))\n",
    "    model.add(Activation('relu'))\n",
    "    model.add(Dense(num_classes))\n",
    "    model.add(Activation('softmax'))\n",
    "    print(model.summary())"
   ]
  },
  {
   "cell_type": "code",
   "execution_count": null,
   "id": "a911a944",
   "metadata": {
    "id": "a911a944"
   },
   "outputs": [],
   "source": [
    "import keras\n",
    "model = cnn(x_train,num_classes)\n",
    "\n",
    "    \n",
    "lr=0.01\n",
    "epoch = 5\n",
    "opt = keras.optimizers.rmsprop(lr, decay=1e-6)\n",
    "model.compile(loss='categorical_crossentropy',\n",
    "              optimizer=opt,metrics=['accuracy'])\n",
    "\n",
    "# here we use the test_set as the validation_set    \n",
    "model.fit(x_train,y_train,\n",
    "          batch_size=32,\n",
    "          epochs=epoch,\n",
    "          verbose=1,\n",
    "          validation_data=(x_val,y_val), \n",
    "          callbacks=[learn_control, checkpoint]\n",
    "         )\n",
    "score = model.evaluate(x_val,y_val,verbose=0)\n",
    "print(score)"
   ]
  },
  {
   "cell_type": "code",
   "execution_count": null,
   "id": "531f1d5d",
   "metadata": {
    "id": "531f1d5d",
    "outputId": "a79c0746-6233-4995-9238-40cc5e366bce"
   },
   "outputs": [],
   "source": [
    "import keras\n",
    "model = cnn(x_train,num_classes)"
   ]
  }
 ],
 "metadata": {
  "colab": {
   "collapsed_sections": [],
   "name": "CNN.ipynb",
   "provenance": []
  },
  "kernelspec": {
   "display_name": "Python 3",
   "language": "python",
   "name": "python3"
  },
  "language_info": {
   "codemirror_mode": {
    "name": "ipython",
    "version": 3
   },
   "file_extension": ".py",
   "mimetype": "text/x-python",
   "name": "python",
   "nbconvert_exporter": "python",
   "pygments_lexer": "ipython3",
   "version": "3.8.8"
  }
 },
 "nbformat": 4,
 "nbformat_minor": 5
}
