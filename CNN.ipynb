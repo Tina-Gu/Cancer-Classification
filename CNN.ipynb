{
 "cells": [
  {
   "cell_type": "code",
   "execution_count": 19,
   "id": "410fd069",
   "metadata": {},
   "outputs": [],
   "source": [
    "# import dependencies\n",
    "import json\n",
    "import math\n",
    "import os\n",
    "\n",
    "import cv2\n",
    "from PIL import Image\n",
    "import numpy as np\n",
    "from keras import layers\n",
    "from keras.applications.resnet50 import ResNet50\n",
    "from keras.applications.mobilenet import MobileNet\n",
    "from keras.applications.densenet import DenseNet201\n",
    "from keras.applications.inception_v3 import InceptionV3\n",
    "from keras.applications.nasnet import NASNetLarge, NASNetMobile\n",
    "from keras.applications.inception_resnet_v2 import InceptionResNetV2\n",
    "from keras.callbacks import Callback, ModelCheckpoint, ReduceLROnPlateau, TensorBoard\n",
    "from keras.preprocessing.image import ImageDataGenerator\n",
    "from keras.utils.np_utils import to_categorical\n",
    "from keras.models import Sequential\n",
    "from keras.optimizers import Adam\n",
    "import matplotlib.pyplot as plt\n",
    "import pandas as pd\n",
    "from sklearn.model_selection import train_test_split\n",
    "from sklearn.metrics import cohen_kappa_score, accuracy_score\n",
    "import scipy\n",
    "from tqdm import tqdm\n",
    "import tensorflow as tf\n",
    "from keras import backend as K\n",
    "import gc\n",
    "from functools import partial\n",
    "from sklearn import metrics\n",
    "from collections import Counter\n",
    "import json\n",
    "import itertools\n",
    "\n",
    "\n",
    "%matplotlib inline"
   ]
  },
  {
   "cell_type": "code",
   "execution_count": 16,
   "id": "b850139f",
   "metadata": {},
   "outputs": [],
   "source": [
    "# Self-defined functions\n",
    "#Transfer 'jpg' images to an array IMG\n",
    "def Dataset_loader(DIR, RESIZE, sigmaX=10):\n",
    "    #IMG = []\n",
    "    BIMG = []\n",
    "    MIMG = []\n",
    "    read = lambda imname: np.asarray(Image.open(imname).convert(\"RGB\"))\n",
    "    for IMAGE_NAME in tqdm(os.listdir(DIR)):\n",
    "        PATH = os.path.join(DIR,IMAGE_NAME)\n",
    "        \n",
    "        name, ftype = os.path.splitext(PATH)\n",
    "#         print(name)\n",
    "        if ftype == \".png\":\n",
    "            img = read(PATH)\n",
    "            img = cv2.resize(img, (RESIZE,RESIZE))\n",
    "            if name[11:16] == 'train':\n",
    "                if name[26] =='B':\n",
    "                    BIMG.append(np.array(img))\n",
    "                elif name[26]== 'M':\n",
    "                    MIMG.append(np.array(img))\n",
    "            #IMG.append(np.array(img))\n",
    "            else:\n",
    "                if name[25] == 'B':\n",
    "                    BIMG.append(np.array(img))\n",
    "                elif name[25] == 'M':\n",
    "                    MIMG.append(np.array(img))\n",
    "    return BIMG, MIMG\n",
    "\n",
    "def build_model(backbone, lr=1e-4):\n",
    "    model = Sequential()\n",
    "    model.add(backbone)\n",
    "    model.add(layers.GlobalAveragePooling2D())\n",
    "    model.add(layers.Dropout(0.5))\n",
    "    model.add(layers.BatchNormalization())\n",
    "    model.add(layers.Dense(2, activation='softmax'))\n",
    "    \n",
    "    \n",
    "    model.compile(\n",
    "        loss='binary_crossentropy',\n",
    "        optimizer=Adam(lr=lr),\n",
    "        metrics=['accuracy']\n",
    "    )\n",
    "    \n",
    "    return model"
   ]
  },
  {
   "cell_type": "markdown",
   "id": "38100e0c",
   "metadata": {},
   "source": [
    "### Load dataset"
   ]
  },
  {
   "cell_type": "code",
   "execution_count": 4,
   "id": "1c357669",
   "metadata": {},
   "outputs": [
    {
     "name": "stderr",
     "output_type": "stream",
     "text": [
      "100%|██████████| 1269/1269 [00:18<00:00, 67.15it/s]\n",
      "100%|██████████| 1416/1416 [00:20<00:00, 68.56it/s]\n",
      "100%|██████████| 1354/1354 [00:20<00:00, 67.05it/s]\n",
      "100%|██████████| 1334/1334 [00:20<00:00, 66.69it/s]\n",
      "100%|██████████| 1243/1243 [00:18<00:00, 67.50it/s]\n"
     ]
    }
   ],
   "source": [
    "f1_b_train, f1_m_train = Dataset_loader('data/fold1/train/200X', 224)\n",
    "f1_b_train = np.array(f1_b_train)\n",
    "f1_m_train = np.array(f1_m_train)\n",
    "\n",
    "f2_b_train, f2_m_train = Dataset_loader('data/fold2/train/200X', 224)\n",
    "f2_b_train = np.array(f2_b_train)\n",
    "f2_m_train = np.array(f2_m_train)\n",
    "\n",
    "f3_b_train, f3_m_train = Dataset_loader('data/fold3/train/200X', 224)\n",
    "f3_b_train = np.array(f3_b_train)\n",
    "f3_m_train = np.array(f3_m_train)\n",
    "\n",
    "f4_b_train, f4_m_train = Dataset_loader('data/fold4/train/200X', 224)\n",
    "f4_b_train = np.array(f4_b_train)\n",
    "f4_m_train = np.array(f4_m_train)\n",
    "\n",
    "f5_b_train, f5_m_train = Dataset_loader('data/fold5/train/200X', 224)\n",
    "f5_b_train = np.array(f5_b_train)\n",
    "f5_m_train = np.array(f5_m_train)"
   ]
  },
  {
   "cell_type": "code",
   "execution_count": 5,
   "id": "19f2cc9f",
   "metadata": {},
   "outputs": [
    {
     "name": "stdout",
     "output_type": "stream",
     "text": [
      "(368, 224, 224, 3)\n",
      "(901, 224, 224, 3)\n"
     ]
    }
   ],
   "source": [
    "print(f1_b_train.shape)\n",
    "print(f1_m_train.shape)"
   ]
  },
  {
   "cell_type": "code",
   "execution_count": 6,
   "id": "f90f1dfe",
   "metadata": {},
   "outputs": [
    {
     "name": "stderr",
     "output_type": "stream",
     "text": [
      "100%|██████████| 744/744 [00:10<00:00, 67.64it/s]\n",
      "100%|██████████| 597/597 [00:08<00:00, 71.63it/s]\n",
      "100%|██████████| 659/659 [00:09<00:00, 70.78it/s]\n",
      "100%|██████████| 679/679 [00:09<00:00, 70.93it/s]\n",
      "100%|██████████| 770/770 [00:11<00:00, 68.75it/s]\n"
     ]
    }
   ],
   "source": [
    "f1_b_test, f1_m_test = Dataset_loader('data/fold1/test/200X', 224)\n",
    "f1_b_test = np.array(f1_b_test)\n",
    "f1_m_test = np.array(f1_m_test)\n",
    "\n",
    "f2_b_test, f2_m_test = Dataset_loader('data/fold2/test/200X', 224)\n",
    "f2_b_test = np.array(f2_b_test)\n",
    "f2_m_test = np.array(f2_m_test)\n",
    "\n",
    "f3_b_test, f3_m_test = Dataset_loader('data/fold3/test/200X', 224)\n",
    "f3_b_test = np.array(f3_b_test)\n",
    "f3_m_test = np.array(f3_m_test)\n",
    "\n",
    "f4_b_test, f4_m_test = Dataset_loader('data/fold4/test/200X', 224)\n",
    "f4_b_test = np.array(f4_b_test)\n",
    "f4_m_test = np.array(f4_m_test)\n",
    "\n",
    "f5_b_test, f5_m_test = Dataset_loader('data/fold5/test/200X', 224)\n",
    "f5_b_test = np.array(f5_b_test)\n",
    "f5_m_test = np.array(f5_m_test)"
   ]
  },
  {
   "cell_type": "code",
   "execution_count": 7,
   "id": "29cf8450",
   "metadata": {},
   "outputs": [
    {
     "name": "stdout",
     "output_type": "stream",
     "text": [
      "(1114, 224, 224, 3)\n",
      "(2335, 224, 224, 3)\n"
     ]
    }
   ],
   "source": [
    "b_train = np.concatenate((f1_b_train, f2_b_train, f3_b_train, f4_b_train, f5_b_train), axis=0)\n",
    "m_train = np.concatenate((f1_m_train, f2_m_train, f3_m_train, f4_m_train, f5_m_train), axis=0)\n",
    "b_test = np.concatenate((f1_b_test, f2_b_test, f3_b_test, f4_b_test, f5_b_test), axis = 0)\n",
    "m_test = np.concatenate((f1_m_test, f2_m_test, f3_m_test, f4_m_test, f5_m_test), axis = 0)\n",
    "print(b_test.shape)\n",
    "print(m_test.shape)"
   ]
  },
  {
   "cell_type": "code",
   "execution_count": 10,
   "id": "76a6411a",
   "metadata": {},
   "outputs": [
    {
     "name": "stdout",
     "output_type": "stream",
     "text": [
      "[[[[228 156 193]\n",
      "   [228 142 192]\n",
      "   [224 138 193]\n",
      "   ...\n",
      "   [200 166 196]\n",
      "   [248 208 229]\n",
      "   [242 204 225]]\n",
      "\n",
      "  [[230 161 197]\n",
      "   [229 143 194]\n",
      "   [220 132 188]\n",
      "   ...\n",
      "   [235 203 226]\n",
      "   [244 206 224]\n",
      "   [241 205 225]]\n",
      "\n",
      "  [[230 164 193]\n",
      "   [224 138 186]\n",
      "   [215 129 185]\n",
      "   ...\n",
      "   [239 205 229]\n",
      "   [241 202 221]\n",
      "   [242 207 230]]\n",
      "\n",
      "  ...\n",
      "\n",
      "  [[185 128 160]\n",
      "   [217 142 184]\n",
      "   [217 142 187]\n",
      "   ...\n",
      "   [217 152 188]\n",
      "   [214 152 188]\n",
      "   [229 182 214]]\n",
      "\n",
      "  [[185 128 161]\n",
      "   [219 147 189]\n",
      "   [215 143 188]\n",
      "   ...\n",
      "   [208 142 180]\n",
      "   [211 150 184]\n",
      "   [227 177 212]]\n",
      "\n",
      "  [[190 135 167]\n",
      "   [224 156 195]\n",
      "   [222 154 196]\n",
      "   ...\n",
      "   [205 136 178]\n",
      "   [202 136 175]\n",
      "   [225 174 210]]]\n",
      "\n",
      "\n",
      " [[[207 184 205]\n",
      "   [193 167 208]\n",
      "   [148 124 175]\n",
      "   ...\n",
      "   [235 209 215]\n",
      "   [231 209 219]\n",
      "   [232 225 228]]\n",
      "\n",
      "  [[197 175 200]\n",
      "   [207 180 225]\n",
      "   [152 129 180]\n",
      "   ...\n",
      "   [248 232 226]\n",
      "   [242 228 229]\n",
      "   [225 219 219]]\n",
      "\n",
      "  [[185 160 189]\n",
      "   [197 169 216]\n",
      "   [145 120 166]\n",
      "   ...\n",
      "   [240 228 222]\n",
      "   [238 228 224]\n",
      "   [228 218 218]]\n",
      "\n",
      "  ...\n",
      "\n",
      "  [[228 222 212]\n",
      "   [226 215 218]\n",
      "   [209 193 210]\n",
      "   ...\n",
      "   [178 154 177]\n",
      "   [186 163 185]\n",
      "   [179 167 187]]\n",
      "\n",
      "  [[231 229 213]\n",
      "   [230 220 218]\n",
      "   [223 208 214]\n",
      "   ...\n",
      "   [185 160 178]\n",
      "   [203 180 197]\n",
      "   [218 206 223]]\n",
      "\n",
      "  [[229 229 212]\n",
      "   [231 222 213]\n",
      "   [235 222 221]\n",
      "   ...\n",
      "   [191 169 186]\n",
      "   [196 176 190]\n",
      "   [231 219 235]]]\n",
      "\n",
      "\n",
      " [[[232 215 239]\n",
      "   [193 179 201]\n",
      "   [177 162 186]\n",
      "   ...\n",
      "   [138 134 152]\n",
      "   [114 106 129]\n",
      "   [169 157 168]]\n",
      "\n",
      "  [[200 186 212]\n",
      "   [154 147 175]\n",
      "   [204 197 226]\n",
      "   ...\n",
      "   [170 168 182]\n",
      "   [147 140 160]\n",
      "   [179 166 178]]\n",
      "\n",
      "  [[162 149 174]\n",
      "   [155 151 178]\n",
      "   [188 183 217]\n",
      "   ...\n",
      "   [174 172 194]\n",
      "   [150 146 165]\n",
      "   [175 162 181]]\n",
      "\n",
      "  ...\n",
      "\n",
      "  [[230 198 210]\n",
      "   [214 180 192]\n",
      "   [214 182 195]\n",
      "   ...\n",
      "   [223 203 206]\n",
      "   [204 188 196]\n",
      "   [214 201 209]]\n",
      "\n",
      "  [[232 200 212]\n",
      "   [218 183 197]\n",
      "   [215 183 196]\n",
      "   ...\n",
      "   [218 199 201]\n",
      "   [194 180 181]\n",
      "   [229 218 223]]\n",
      "\n",
      "  [[228 196 205]\n",
      "   [216 184 199]\n",
      "   [215 184 194]\n",
      "   ...\n",
      "   [202 183 185]\n",
      "   [205 191 191]\n",
      "   [236 225 229]]]\n",
      "\n",
      "\n",
      " ...\n",
      "\n",
      "\n",
      " [[[166 161 166]\n",
      "   [177 172 171]\n",
      "   [212 210 205]\n",
      "   ...\n",
      "   [194 189 185]\n",
      "   [183 174 174]\n",
      "   [170 165 171]]\n",
      "\n",
      "  [[172 166 172]\n",
      "   [180 174 176]\n",
      "   [213 212 207]\n",
      "   ...\n",
      "   [194 189 185]\n",
      "   [184 172 175]\n",
      "   [180 175 177]]\n",
      "\n",
      "  [[175 170 177]\n",
      "   [177 171 175]\n",
      "   [205 200 200]\n",
      "   ...\n",
      "   [192 184 181]\n",
      "   [181 171 174]\n",
      "   [195 191 190]]\n",
      "\n",
      "  ...\n",
      "\n",
      "  [[158 150 164]\n",
      "   [186 175 184]\n",
      "   [201 194 194]\n",
      "   ...\n",
      "   [157 149 165]\n",
      "   [157 157 156]\n",
      "   [195 202 195]]\n",
      "\n",
      "  [[143 135 151]\n",
      "   [178 168 182]\n",
      "   [209 204 201]\n",
      "   ...\n",
      "   [164 157 170]\n",
      "   [161 162 160]\n",
      "   [199 205 194]]\n",
      "\n",
      "  [[142 131 148]\n",
      "   [164 154 170]\n",
      "   [206 203 201]\n",
      "   ...\n",
      "   [175 167 175]\n",
      "   [173 172 172]\n",
      "   [203 209 197]]]\n",
      "\n",
      "\n",
      " [[[146 137 168]\n",
      "   [145 135 174]\n",
      "   [155 144 184]\n",
      "   ...\n",
      "   [182 171 172]\n",
      "   [208 198 191]\n",
      "   [232 227 219]]\n",
      "\n",
      "  [[141 133 164]\n",
      "   [145 138 177]\n",
      "   [147 142 180]\n",
      "   ...\n",
      "   [198 182 186]\n",
      "   [211 197 195]\n",
      "   [232 227 221]]\n",
      "\n",
      "  [[120 115 146]\n",
      "   [122 118 155]\n",
      "   [116 114 146]\n",
      "   ...\n",
      "   [218 202 200]\n",
      "   [227 215 210]\n",
      "   [236 232 223]]\n",
      "\n",
      "  ...\n",
      "\n",
      "  [[126 120 143]\n",
      "   [129 118 143]\n",
      "   [189 171 193]\n",
      "   ...\n",
      "   [209 194 199]\n",
      "   [192 178 184]\n",
      "   [194 184 192]]\n",
      "\n",
      "  [[141 132 156]\n",
      "   [145 131 156]\n",
      "   [214 197 215]\n",
      "   ...\n",
      "   [204 186 196]\n",
      "   [195 179 189]\n",
      "   [190 177 187]]\n",
      "\n",
      "  [[163 153 171]\n",
      "   [186 170 188]\n",
      "   [230 213 230]\n",
      "   ...\n",
      "   [203 185 198]\n",
      "   [199 181 197]\n",
      "   [193 179 194]]]\n",
      "\n",
      "\n",
      " [[[204 199 223]\n",
      "   [164 159 189]\n",
      "   [144 132 170]\n",
      "   ...\n",
      "   [143 134 159]\n",
      "   [150 143 167]\n",
      "   [141 136 159]]\n",
      "\n",
      "  [[167 163 189]\n",
      "   [145 140 170]\n",
      "   [142 130 166]\n",
      "   ...\n",
      "   [158 145 172]\n",
      "   [157 149 171]\n",
      "   [145 140 156]]\n",
      "\n",
      "  [[145 143 168]\n",
      "   [144 134 168]\n",
      "   [158 144 177]\n",
      "   ...\n",
      "   [220 205 224]\n",
      "   [216 205 220]\n",
      "   [188 184 191]]\n",
      "\n",
      "  ...\n",
      "\n",
      "  [[130 118 141]\n",
      "   [142 124 157]\n",
      "   [150 135 167]\n",
      "   ...\n",
      "   [242 241 233]\n",
      "   [234 235 238]\n",
      "   [178 177 193]]\n",
      "\n",
      "  [[127 117 145]\n",
      "   [135 120 156]\n",
      "   [137 122 152]\n",
      "   ...\n",
      "   [244 246 232]\n",
      "   [244 245 246]\n",
      "   [186 186 199]]\n",
      "\n",
      "  [[144 135 162]\n",
      "   [166 155 189]\n",
      "   [156 144 170]\n",
      "   ...\n",
      "   [230 230 218]\n",
      "   [236 239 235]\n",
      "   [192 196 205]]]]\n"
     ]
    }
   ],
   "source": [
    "print(f1_b_test)"
   ]
  },
  {
   "cell_type": "markdown",
   "id": "91fd9f63",
   "metadata": {},
   "source": [
    "### Create Label"
   ]
  },
  {
   "cell_type": "code",
   "execution_count": 8,
   "id": "0b893b80",
   "metadata": {},
   "outputs": [],
   "source": [
    "b_train_label = np.zeros(len(b_train))\n",
    "m_train_label = np.ones(len(m_train))\n",
    "b_test_label = np.zeros(len(b_test))\n",
    "m_test_label = np.ones(len(m_test))"
   ]
  },
  {
   "cell_type": "code",
   "execution_count": 9,
   "id": "03b2220a",
   "metadata": {},
   "outputs": [
    {
     "name": "stdout",
     "output_type": "stream",
     "text": [
      "(6616, 224, 224, 3)\n",
      "(6616,)\n",
      "(3449, 224, 224, 3)\n",
      "(3449,)\n"
     ]
    }
   ],
   "source": [
    "# Merge data \n",
    "X_train = np.concatenate((b_train, m_train), axis = 0)\n",
    "Y_train = np.concatenate((b_train_label, m_train_label), axis = 0)\n",
    "X_test = np.concatenate((b_test, m_test), axis = 0)\n",
    "Y_test = np.concatenate((b_test_label, m_test_label), axis = 0)\n",
    "print(X_train.shape)\n",
    "print(Y_train.shape)\n",
    "print(X_test.shape)\n",
    "print(Y_test.shape)"
   ]
  },
  {
   "cell_type": "code",
   "execution_count": 10,
   "id": "b8e612eb",
   "metadata": {},
   "outputs": [],
   "source": [
    "s = np.arange(X_train.shape[0])\n",
    "np.random.shuffle(s)\n",
    "X_train = X_train[s]\n",
    "Y_train = Y_train[s]\n",
    "\n",
    "s = np.arange(X_test.shape[0])\n",
    "np.random.shuffle(s)\n",
    "X_test = X_test[s]\n",
    "Y_test = Y_test[s]\n",
    "\n",
    "# To categorical\n",
    "Y_train = to_categorical(Y_train, num_classes= 2)\n",
    "Y_test = to_categorical(Y_test, num_classes= 2)"
   ]
  },
  {
   "cell_type": "markdown",
   "id": "fd879cee",
   "metadata": {},
   "source": [
    "### Train and Evalutation split"
   ]
  },
  {
   "cell_type": "code",
   "execution_count": 11,
   "id": "589c0934",
   "metadata": {},
   "outputs": [],
   "source": [
    "x_train, x_val, y_train, y_val = train_test_split(\n",
    "    X_train, Y_train, \n",
    "    test_size=0.2, \n",
    "    random_state=11\n",
    ")"
   ]
  },
  {
   "cell_type": "code",
   "execution_count": 15,
   "id": "177b2fd6",
   "metadata": {},
   "outputs": [],
   "source": [
    "# Learning Rate Reducer\n",
    "learn_control = ReduceLROnPlateau(monitor='val_acc', patience=5,\n",
    "                                  verbose=1,factor=0.2, min_lr=1e-7)\n",
    "\n",
    "# Checkpoint\n",
    "filepath=\"weights.best.hdf5\"\n",
    "checkpoint = ModelCheckpoint(filepath, monitor='val_acc', verbose=1, save_best_only=True, mode='max')"
   ]
  },
  {
   "cell_type": "markdown",
   "id": "000e5f6e",
   "metadata": {},
   "source": [
    "### Data Generator"
   ]
  },
  {
   "cell_type": "code",
   "execution_count": 17,
   "id": "06965661",
   "metadata": {},
   "outputs": [],
   "source": [
    "BATCH_SIZE = 16\n",
    "\n",
    "# Using original generator\n",
    "train_generator = ImageDataGenerator(\n",
    "        zoom_range=2,  # set range for random zoom\n",
    "        rotation_range = 90,\n",
    "        horizontal_flip=True,  # randomly flip images\n",
    "        vertical_flip=True,  # randomly flip images\n",
    "    )"
   ]
  },
  {
   "cell_type": "markdown",
   "id": "4a8b0d0c",
   "metadata": {},
   "source": [
    "### Model: ResNet50"
   ]
  },
  {
   "cell_type": "code",
   "execution_count": 20,
   "id": "da673d41",
   "metadata": {},
   "outputs": [
    {
     "name": "stdout",
     "output_type": "stream",
     "text": [
      "Model: \"sequential\"\n",
      "_________________________________________________________________\n",
      "Layer (type)                 Output Shape              Param #   \n",
      "=================================================================\n",
      "densenet201 (Functional)     (None, 7, 7, 1920)        18321984  \n",
      "_________________________________________________________________\n",
      "global_average_pooling2d (Gl (None, 1920)              0         \n",
      "_________________________________________________________________\n",
      "dropout (Dropout)            (None, 1920)              0         \n",
      "_________________________________________________________________\n",
      "batch_normalization (BatchNo (None, 1920)              7680      \n",
      "_________________________________________________________________\n",
      "dense (Dense)                (None, 2)                 3842      \n",
      "=================================================================\n",
      "Total params: 18,333,506\n",
      "Trainable params: 18,100,610\n",
      "Non-trainable params: 232,896\n",
      "_________________________________________________________________\n"
     ]
    },
    {
     "name": "stderr",
     "output_type": "stream",
     "text": [
      "/Users/callter/opt/anaconda3/lib/python3.8/site-packages/tensorflow/python/keras/optimizer_v2/optimizer_v2.py:374: UserWarning: The `lr` argument is deprecated, use `learning_rate` instead.\n",
      "  warnings.warn(\n"
     ]
    }
   ],
   "source": [
    "K.clear_session()\n",
    "gc.collect()\n",
    "\n",
    "resnet = DenseNet201(\n",
    "    weights='imagenet',\n",
    "    include_top=False,\n",
    "    input_shape=(224,224,3)\n",
    ")\n",
    "\n",
    "model = build_model(resnet ,lr = 1e-4)\n",
    "model.summary()"
   ]
  },
  {
   "cell_type": "code",
   "execution_count": 21,
   "id": "5b2e710d",
   "metadata": {},
   "outputs": [],
   "source": [
    "# Learning Rate Reducer\n",
    "learn_control = ReduceLROnPlateau(monitor='val_acc', patience=5,\n",
    "                                  verbose=1,factor=0.2, min_lr=1e-7)\n",
    "\n",
    "# Checkpoint\n",
    "filepath=\"weights.best.hdf5\"\n",
    "checkpoint = ModelCheckpoint(filepath, monitor='val_acc', verbose=1, save_best_only=True, mode='max')"
   ]
  },
  {
   "cell_type": "code",
   "execution_count": 23,
   "id": "e609429d",
   "metadata": {},
   "outputs": [
    {
     "name": "stdout",
     "output_type": "stream",
     "text": [
      "Epoch 1/2\n",
      "330/330 [==============================] - 2337s 7s/step - loss: 0.3513 - accuracy: 0.8666 - val_loss: 0.1581 - val_accuracy: 0.9396\n",
      "WARNING:tensorflow:Learning rate reduction is conditioned on metric `val_acc` which is not available. Available metrics are: loss,accuracy,val_loss,val_accuracy,lr\n",
      "WARNING:tensorflow:Can save best model only with val_acc available, skipping.\n",
      "Epoch 2/2\n",
      "330/330 [==============================] - 2385s 7s/step - loss: 0.2537 - accuracy: 0.9025 - val_loss: 0.2969 - val_accuracy: 0.8890\n",
      "WARNING:tensorflow:Learning rate reduction is conditioned on metric `val_acc` which is not available. Available metrics are: loss,accuracy,val_loss,val_accuracy,lr\n",
      "WARNING:tensorflow:Can save best model only with val_acc available, skipping.\n"
     ]
    }
   ],
   "source": [
    "history = model.fit_generator(\n",
    "    train_generator.flow(x_train, y_train, batch_size=BATCH_SIZE),\n",
    "    steps_per_epoch=x_train.shape[0] / BATCH_SIZE,\n",
    "    epochs=2,\n",
    "    validation_data=(x_val, y_val),\n",
    "    callbacks=[learn_control, checkpoint]\n",
    ")"
   ]
  },
  {
   "cell_type": "code",
   "execution_count": 24,
   "id": "7b6cc7a5",
   "metadata": {},
   "outputs": [],
   "source": [
    "with open('history.json', 'w') as f:\n",
    "    json.dump(str(history.history), f)"
   ]
  },
  {
   "cell_type": "code",
   "execution_count": 25,
   "id": "b68ab45c",
   "metadata": {},
   "outputs": [
    {
     "ename": "KeyError",
     "evalue": "\"None of [Index(['acc', 'val_acc'], dtype='object')] are in the [columns]\"",
     "output_type": "error",
     "traceback": [
      "\u001b[0;31m---------------------------------------------------------------------------\u001b[0m",
      "\u001b[0;31mKeyError\u001b[0m                                  Traceback (most recent call last)",
      "\u001b[0;32m<ipython-input-25-b1db12e0841d>\u001b[0m in \u001b[0;36m<module>\u001b[0;34m\u001b[0m\n\u001b[1;32m      1\u001b[0m \u001b[0mhistory_df\u001b[0m \u001b[0;34m=\u001b[0m \u001b[0mpd\u001b[0m\u001b[0;34m.\u001b[0m\u001b[0mDataFrame\u001b[0m\u001b[0;34m(\u001b[0m\u001b[0mhistory\u001b[0m\u001b[0;34m.\u001b[0m\u001b[0mhistory\u001b[0m\u001b[0;34m)\u001b[0m\u001b[0;34m\u001b[0m\u001b[0;34m\u001b[0m\u001b[0m\n\u001b[0;32m----> 2\u001b[0;31m \u001b[0mhistory_df\u001b[0m\u001b[0;34m[\u001b[0m\u001b[0;34m[\u001b[0m\u001b[0;34m'acc'\u001b[0m\u001b[0;34m,\u001b[0m \u001b[0;34m'val_acc'\u001b[0m\u001b[0;34m]\u001b[0m\u001b[0;34m]\u001b[0m\u001b[0;34m.\u001b[0m\u001b[0mplot\u001b[0m\u001b[0;34m(\u001b[0m\u001b[0;34m)\u001b[0m\u001b[0;34m\u001b[0m\u001b[0;34m\u001b[0m\u001b[0m\n\u001b[0m",
      "\u001b[0;32m~/opt/anaconda3/lib/python3.8/site-packages/pandas/core/frame.py\u001b[0m in \u001b[0;36m__getitem__\u001b[0;34m(self, key)\u001b[0m\n\u001b[1;32m   3028\u001b[0m             \u001b[0;32mif\u001b[0m \u001b[0mis_iterator\u001b[0m\u001b[0;34m(\u001b[0m\u001b[0mkey\u001b[0m\u001b[0;34m)\u001b[0m\u001b[0;34m:\u001b[0m\u001b[0;34m\u001b[0m\u001b[0;34m\u001b[0m\u001b[0m\n\u001b[1;32m   3029\u001b[0m                 \u001b[0mkey\u001b[0m \u001b[0;34m=\u001b[0m \u001b[0mlist\u001b[0m\u001b[0;34m(\u001b[0m\u001b[0mkey\u001b[0m\u001b[0;34m)\u001b[0m\u001b[0;34m\u001b[0m\u001b[0;34m\u001b[0m\u001b[0m\n\u001b[0;32m-> 3030\u001b[0;31m             \u001b[0mindexer\u001b[0m \u001b[0;34m=\u001b[0m \u001b[0mself\u001b[0m\u001b[0;34m.\u001b[0m\u001b[0mloc\u001b[0m\u001b[0;34m.\u001b[0m\u001b[0m_get_listlike_indexer\u001b[0m\u001b[0;34m(\u001b[0m\u001b[0mkey\u001b[0m\u001b[0;34m,\u001b[0m \u001b[0maxis\u001b[0m\u001b[0;34m=\u001b[0m\u001b[0;36m1\u001b[0m\u001b[0;34m,\u001b[0m \u001b[0mraise_missing\u001b[0m\u001b[0;34m=\u001b[0m\u001b[0;32mTrue\u001b[0m\u001b[0;34m)\u001b[0m\u001b[0;34m[\u001b[0m\u001b[0;36m1\u001b[0m\u001b[0;34m]\u001b[0m\u001b[0;34m\u001b[0m\u001b[0;34m\u001b[0m\u001b[0m\n\u001b[0m\u001b[1;32m   3031\u001b[0m \u001b[0;34m\u001b[0m\u001b[0m\n\u001b[1;32m   3032\u001b[0m         \u001b[0;31m# take() does not accept boolean indexers\u001b[0m\u001b[0;34m\u001b[0m\u001b[0;34m\u001b[0m\u001b[0;34m\u001b[0m\u001b[0m\n",
      "\u001b[0;32m~/opt/anaconda3/lib/python3.8/site-packages/pandas/core/indexing.py\u001b[0m in \u001b[0;36m_get_listlike_indexer\u001b[0;34m(self, key, axis, raise_missing)\u001b[0m\n\u001b[1;32m   1264\u001b[0m             \u001b[0mkeyarr\u001b[0m\u001b[0;34m,\u001b[0m \u001b[0mindexer\u001b[0m\u001b[0;34m,\u001b[0m \u001b[0mnew_indexer\u001b[0m \u001b[0;34m=\u001b[0m \u001b[0max\u001b[0m\u001b[0;34m.\u001b[0m\u001b[0m_reindex_non_unique\u001b[0m\u001b[0;34m(\u001b[0m\u001b[0mkeyarr\u001b[0m\u001b[0;34m)\u001b[0m\u001b[0;34m\u001b[0m\u001b[0;34m\u001b[0m\u001b[0m\n\u001b[1;32m   1265\u001b[0m \u001b[0;34m\u001b[0m\u001b[0m\n\u001b[0;32m-> 1266\u001b[0;31m         \u001b[0mself\u001b[0m\u001b[0;34m.\u001b[0m\u001b[0m_validate_read_indexer\u001b[0m\u001b[0;34m(\u001b[0m\u001b[0mkeyarr\u001b[0m\u001b[0;34m,\u001b[0m \u001b[0mindexer\u001b[0m\u001b[0;34m,\u001b[0m \u001b[0maxis\u001b[0m\u001b[0;34m,\u001b[0m \u001b[0mraise_missing\u001b[0m\u001b[0;34m=\u001b[0m\u001b[0mraise_missing\u001b[0m\u001b[0;34m)\u001b[0m\u001b[0;34m\u001b[0m\u001b[0;34m\u001b[0m\u001b[0m\n\u001b[0m\u001b[1;32m   1267\u001b[0m         \u001b[0;32mreturn\u001b[0m \u001b[0mkeyarr\u001b[0m\u001b[0;34m,\u001b[0m \u001b[0mindexer\u001b[0m\u001b[0;34m\u001b[0m\u001b[0;34m\u001b[0m\u001b[0m\n\u001b[1;32m   1268\u001b[0m \u001b[0;34m\u001b[0m\u001b[0m\n",
      "\u001b[0;32m~/opt/anaconda3/lib/python3.8/site-packages/pandas/core/indexing.py\u001b[0m in \u001b[0;36m_validate_read_indexer\u001b[0;34m(self, key, indexer, axis, raise_missing)\u001b[0m\n\u001b[1;32m   1306\u001b[0m             \u001b[0;32mif\u001b[0m \u001b[0mmissing\u001b[0m \u001b[0;34m==\u001b[0m \u001b[0mlen\u001b[0m\u001b[0;34m(\u001b[0m\u001b[0mindexer\u001b[0m\u001b[0;34m)\u001b[0m\u001b[0;34m:\u001b[0m\u001b[0;34m\u001b[0m\u001b[0;34m\u001b[0m\u001b[0m\n\u001b[1;32m   1307\u001b[0m                 \u001b[0maxis_name\u001b[0m \u001b[0;34m=\u001b[0m \u001b[0mself\u001b[0m\u001b[0;34m.\u001b[0m\u001b[0mobj\u001b[0m\u001b[0;34m.\u001b[0m\u001b[0m_get_axis_name\u001b[0m\u001b[0;34m(\u001b[0m\u001b[0maxis\u001b[0m\u001b[0;34m)\u001b[0m\u001b[0;34m\u001b[0m\u001b[0;34m\u001b[0m\u001b[0m\n\u001b[0;32m-> 1308\u001b[0;31m                 \u001b[0;32mraise\u001b[0m \u001b[0mKeyError\u001b[0m\u001b[0;34m(\u001b[0m\u001b[0;34mf\"None of [{key}] are in the [{axis_name}]\"\u001b[0m\u001b[0;34m)\u001b[0m\u001b[0;34m\u001b[0m\u001b[0;34m\u001b[0m\u001b[0m\n\u001b[0m\u001b[1;32m   1309\u001b[0m \u001b[0;34m\u001b[0m\u001b[0m\n\u001b[1;32m   1310\u001b[0m             \u001b[0max\u001b[0m \u001b[0;34m=\u001b[0m \u001b[0mself\u001b[0m\u001b[0;34m.\u001b[0m\u001b[0mobj\u001b[0m\u001b[0;34m.\u001b[0m\u001b[0m_get_axis\u001b[0m\u001b[0;34m(\u001b[0m\u001b[0maxis\u001b[0m\u001b[0;34m)\u001b[0m\u001b[0;34m\u001b[0m\u001b[0;34m\u001b[0m\u001b[0m\n",
      "\u001b[0;31mKeyError\u001b[0m: \"None of [Index(['acc', 'val_acc'], dtype='object')] are in the [columns]\""
     ]
    }
   ],
   "source": [
    "history_df = pd.DataFrame(history.history)\n",
    "history_df[['acc', 'val_acc']].plot()"
   ]
  },
  {
   "cell_type": "code",
   "execution_count": 26,
   "id": "c273d553",
   "metadata": {},
   "outputs": [
    {
     "data": {
      "text/plain": [
       "<AxesSubplot:>"
      ]
     },
     "execution_count": 26,
     "metadata": {},
     "output_type": "execute_result"
    },
    {
     "data": {
      "image/png": "[encoded data removed]",
      "text/plain": [
       "<Figure size 432x288 with 1 Axes>"
      ]
     },
     "metadata": {
      "needs_background": "light"
     },
     "output_type": "display_data"
    }
   ],
   "source": [
    "history_df = pd.DataFrame(history.history)\n",
    "history_df[['loss', 'val_loss']].plot()"
   ]
  },
  {
   "cell_type": "code",
   "execution_count": null,
   "id": "519fab79",
   "metadata": {},
   "outputs": [],
   "source": [
    "Y_val_pred = model.predict(x_val)\n",
    "accuracy_score(np.argmax(y_val, axis=1), np.argmax(Y_val_pred, axis=1))"
   ]
  },
  {
   "cell_type": "markdown",
   "id": "bed97c42",
   "metadata": {},
   "source": [
    "### More Complicated version"
   ]
  },
  {
   "cell_type": "code",
   "execution_count": 13,
   "id": "77d0bc11",
   "metadata": {},
   "outputs": [],
   "source": [
    "from keras.layers import Conv2D, MaxPooling2D, Dense, Flatten, Activation\n",
    "\n",
    "num_classes = 2\n",
    "def cnn(train_X, num_classes):\n",
    "    model = Sequential()\n",
    "    model.add(Conv2D(32, (5, 5), strides = (1,1), padding='same', \n",
    "                 input_shape=train_X.shape[1:]))  # 第一层需要指出图像的大小\n",
    "    model.add(Activation('relu'))\n",
    "    model.add(MaxPooling2D(pool_size=(3, 3), strides=(1,1)))\n",
    "    model.add(Conv2D(64, (5, 5), strides = (1,1)))\n",
    "    model.add(Activation('relu'))\n",
    "    model.add(MaxPooling2D(pool_size=(3, 3), strides=(1,1)))\n",
    "    model.add(Conv2D(128, (5, 5), strides = (1,1)))\n",
    "    model.add(MaxPooling2D(pool_size=(3, 3), strides=(1,1)))\n",
    "    model.add(Flatten())\n",
    "    model.add(Dense(512))\n",
    "    model.add(Activation('relu'))\n",
    "    model.add(Dense(num_classes))\n",
    "    model.add(Activation('softmax'))\n",
    "    print(model.summary())"
   ]
  },
  {
   "cell_type": "code",
   "execution_count": null,
   "id": "89ad139f",
   "metadata": {},
   "outputs": [],
   "source": [
    "import keras\n",
    "model = cnn(x_train,num_classes)\n",
    "\n",
    "    \n",
    "lr=0.01\n",
    "epoch = 5\n",
    "opt = keras.optimizers.rmsprop(lr, decay=1e-6)\n",
    "model.compile(loss='categorical_crossentropy',\n",
    "              optimizer=opt,metrics=['accuracy'])\n",
    "\n",
    "# here we use the test_set as the validation_set    \n",
    "model.fit(x_train,y_train,\n",
    "          batch_size=32,\n",
    "          epochs=epoch,\n",
    "          verbose=1,\n",
    "          validation_data=(x_val,y_val), \n",
    "          callbacks=[learn_control, checkpoint]\n",
    "         )\n",
    "score = model.evaluate(x_val,y_val,verbose=0)\n",
    "print(score)"
   ]
  },
  {
   "cell_type": "code",
   "execution_count": 14,
   "id": "f49e7aa3",
   "metadata": {},
   "outputs": [
    {
     "name": "stdout",
     "output_type": "stream",
     "text": [
      "Model: \"sequential\"\n",
      "_________________________________________________________________\n",
      "Layer (type)                 Output Shape              Param #   \n",
      "=================================================================\n",
      "conv2d (Conv2D)              (None, 224, 224, 32)      2432      \n",
      "_________________________________________________________________\n",
      "activation (Activation)      (None, 224, 224, 32)      0         \n",
      "_________________________________________________________________\n",
      "max_pooling2d (MaxPooling2D) (None, 222, 222, 32)      0         \n",
      "_________________________________________________________________\n",
      "conv2d_1 (Conv2D)            (None, 218, 218, 64)      51264     \n",
      "_________________________________________________________________\n",
      "activation_1 (Activation)    (None, 218, 218, 64)      0         \n",
      "_________________________________________________________________\n",
      "max_pooling2d_1 (MaxPooling2 (None, 216, 216, 64)      0         \n",
      "_________________________________________________________________\n",
      "conv2d_2 (Conv2D)            (None, 212, 212, 128)     204928    \n",
      "_________________________________________________________________\n",
      "max_pooling2d_2 (MaxPooling2 (None, 210, 210, 128)     0         \n",
      "_________________________________________________________________\n",
      "flatten (Flatten)            (None, 5644800)           0         \n",
      "_________________________________________________________________\n",
      "dense (Dense)                (None, 512)               2890138112\n",
      "_________________________________________________________________\n",
      "activation_2 (Activation)    (None, 512)               0         \n",
      "_________________________________________________________________\n",
      "dense_1 (Dense)              (None, 2)                 1026      \n",
      "_________________________________________________________________\n",
      "activation_3 (Activation)    (None, 2)                 0         \n",
      "=================================================================\n",
      "Total params: 2,890,397,762\n",
      "Trainable params: 2,890,397,762\n",
      "Non-trainable params: 0\n",
      "_________________________________________________________________\n",
      "None\n"
     ]
    }
   ],
   "source": [
    "import keras\n",
    "model = cnn(x_train,num_classes)"
   ]
  }
 ],
 "metadata": {
  "kernelspec": {
   "display_name": "Python 3",
   "language": "python",
   "name": "python3"
  },
  "language_info": {
   "codemirror_mode": {
    "name": "ipython",
    "version": 3
   },
   "file_extension": ".py",
   "mimetype": "text/x-python",
   "name": "python",
   "nbconvert_exporter": "python",
   "pygments_lexer": "ipython3",
   "version": "3.8.8"
  }
 },
 "nbformat": 4,
 "nbformat_minor": 5
}
